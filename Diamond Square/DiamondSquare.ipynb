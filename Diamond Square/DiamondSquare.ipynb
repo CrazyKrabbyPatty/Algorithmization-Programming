{
 "cells": [
  {
   "cell_type": "code",
   "execution_count": null,
   "id": "40141afd",
   "metadata": {},
   "outputs": [
    {
     "data": {
      "application/vnd.jupyter.widget-view+json": {
       "model_id": "c84ae46f95264041b5cc72eefdfb2567",
       "version_major": 2,
       "version_minor": 0
      },
      "text/plain": [
       "interactive(children=(IntSlider(value=0, description='Кадр', max=10), FloatSlider(value=0.0, description='Sigm…"
      ]
     },
     "metadata": {},
     "output_type": "display_data"
    },
    {
     "data": {
      "text/plain": [
       "<function __main__.update_plot(step=0, sigma=0.0, light_x=0.0, light_y=0.0, light_z=0.5)>"
      ]
     },
     "execution_count": 3,
     "metadata": {},
     "output_type": "execute_result"
    }
   ],
   "source": [
    "import numpy as np\n",
    "import random\n",
    "from scipy.ndimage import gaussian_filter\n",
    "import plotly.graph_objects as go\n",
    "from ipywidgets import interact\n",
    "import ipywidgets as widgets\n",
    "\n",
    "# Diamond-Square с сохранением шагов\n",
    "def diamond_square_steps(size, roughness):\n",
    "    steps = []\n",
    "    height_map = np.zeros((size, size))\n",
    "    height_map[0, 0] = random.random()\n",
    "    height_map[0, size - 1] = random.random()\n",
    "    height_map[size - 1, 0] = random.random()\n",
    "    height_map[size - 1, size - 1] = random.random()\n",
    "\n",
    "    steps.append(height_map.copy())\n",
    "\n",
    "    step_size = size - 1\n",
    "    while step_size > 1:\n",
    "        half_step = step_size // 2\n",
    "\n",
    "        # Diamond\n",
    "        for x in range(0, size - 1, step_size):\n",
    "            for y in range(0, size - 1, step_size):\n",
    "                center = (x + half_step, y + half_step)\n",
    "                avg = (height_map[x, y] + height_map[x + step_size, y] +\n",
    "                       height_map[x, y + step_size] + height_map[x + step_size, y + step_size]) / 4.0\n",
    "                height_map[center] = avg + random.uniform(-roughness, roughness)\n",
    "\n",
    "        # Square\n",
    "        for x in range(0, size, half_step):\n",
    "            for y in range((x + half_step) % step_size, size, step_size):\n",
    "                avg = 0.0\n",
    "                count = 0\n",
    "                if x - half_step >= 0:\n",
    "                    avg += height_map[x - half_step, y]\n",
    "                    count += 1\n",
    "                if x + half_step < size:\n",
    "                    avg += height_map[x + half_step, y]\n",
    "                    count += 1\n",
    "                if y - half_step >= 0:\n",
    "                    avg += height_map[x, y - half_step]\n",
    "                    count += 1\n",
    "                if y + half_step < size:\n",
    "                    avg += height_map[x, y + half_step]\n",
    "                    count += 1\n",
    "\n",
    "                height_map[x, y] = (avg / count) + random.uniform(-roughness, roughness)\n",
    "\n",
    "        step_size //= 2\n",
    "        roughness /= 2\n",
    "        steps.append(height_map.copy())\n",
    "\n",
    "    return steps\n",
    "\n",
    "# Параметры и генерация шагов\n",
    "size = 1025\n",
    "roughness = 1.0\n",
    "steps = diamond_square_steps(size, roughness)\n",
    "\n",
    "# Цветовая палитра\n",
    "terrain_colorscale = [\n",
    "    [0.0, \"#0000FF\"], [0.2, \"#228B22\"], [0.4, \"#C2B280\"],\n",
    "    [0.6, \"#D2B48C\"], [0.8, \"#A9A9A9\"], [1.0, \"#FFFFFF\"]\n",
    "]\n",
    "\n",
    "# Сетка координат\n",
    "x = np.linspace(0, 1, size)\n",
    "y = np.linspace(0, 1, size)\n",
    "X, Y = np.meshgrid(x, y)\n",
    "\n",
    "# Функция отрисовки сцены\n",
    "def update_plot(step=0, sigma=0.0, light_x=0.0, light_y=0.0, light_z=0.5):\n",
    "    height_map = steps[step]\n",
    "    if sigma > 0:\n",
    "        height_map = gaussian_filter(height_map, sigma=sigma)\n",
    "    \n",
    "    fig = go.Figure(data=[go.Surface(\n",
    "        z=height_map,\n",
    "        x=X,\n",
    "        y=Y,\n",
    "        colorscale=terrain_colorscale,\n",
    "        lighting=dict(ambient=0.5, diffuse=0.7, roughness=0.9, specular=0.5),\n",
    "        lightposition=dict(x=light_x, y=light_y, z=light_z),\n",
    "    )])\n",
    "\n",
    "    fig.update_layout(\n",
    "        title=f\"Diamond-Square Terrain (Step {step}, Sigma={sigma})\",\n",
    "        scene=dict(xaxis_title=\"X\", yaxis_title=\"Y\", zaxis_title=\"Height\"),\n",
    "        margin=dict(l=10, r=10, t=50, b=10),\n",
    "        height=700\n",
    "    )\n",
    "    fig.show()\n",
    "\n",
    "# Интерфейс со слайдерами\n",
    "interact(\n",
    "    update_plot,\n",
    "    step=widgets.IntSlider(min=0, max=len(steps) - 1, step=1, description='Кадр'),\n",
    "    sigma=widgets.FloatSlider(min=0.0, max=5.0, step=0.1, description='Sigma'),\n",
    "    light_x=widgets.FloatSlider(min=-2.0, max=2.0, step=0.1, description='Солнце X'),\n",
    "    light_y=widgets.FloatSlider(min=-2.0, max=2.0, step=0.1, description='Солнце Y'),\n",
    "    light_z=widgets.FloatSlider(min=0.0, max=2.0, step=0.1, description='Солнце Z')\n",
    ")\n"
   ]
  }
 ],
 "metadata": {
  "kernelspec": {
   "display_name": "Python 3",
   "language": "python",
   "name": "python3"
  },
  "language_info": {
   "codemirror_mode": {
    "name": "ipython",
    "version": 3
   },
   "file_extension": ".py",
   "mimetype": "text/x-python",
   "name": "python",
   "nbconvert_exporter": "python",
   "pygments_lexer": "ipython3",
   "version": "3.11.9"
  }
 },
 "nbformat": 4,
 "nbformat_minor": 5
}
